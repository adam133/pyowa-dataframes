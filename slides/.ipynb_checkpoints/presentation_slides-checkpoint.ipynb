{
 "cells": [
  {
   "cell_type": "markdown",
   "id": "91753c26",
   "metadata": {
    "slideshow": {
     "slide_type": "slide"
    }
   },
   "source": [
    "# Framing DataFrames\n",
    "\n",
    "## Adam Best"
   ]
  },
  {
   "cell_type": "code",
   "execution_count": null,
   "id": "d93b577d",
   "metadata": {
    "slideshow": {
     "slide_type": "fragment"
    }
   },
   "outputs": [],
   "source": [
    "print(\"Hello from the slide deck!\")"
   ]
  },
  {
   "cell_type": "code",
   "execution_count": 3,
   "id": "56eb6b2c",
   "metadata": {
    "slideshow": {
     "slide_type": "slide"
    }
   },
   "outputs": [],
   "source": [
    "# Here is some code!"
   ]
  },
  {
   "cell_type": "code",
   "execution_count": null,
   "id": "819b7b05",
   "metadata": {
    "slideshow": {
     "slide_type": "fragment"
    }
   },
   "outputs": [],
   "source": [
    "from datetime import datetime\n",
    "print(datetime.now())"
   ]
  },
  {
   "cell_type": "code",
   "execution_count": null,
   "id": "5fbd21c9",
   "metadata": {
    "slideshow": {
     "slide_type": "subslide"
    }
   },
   "outputs": [],
   "source": [
    "print('what this do? sub slide')"
   ]
  },
  {
   "cell_type": "code",
   "execution_count": null,
   "id": "f0dbb214",
   "metadata": {
    "slideshow": {
     "slide_type": "notes"
    }
   },
   "outputs": [],
   "source": [
    "# here are some notes\n",
    "import os\n",
    "print(os.getcwd())"
   ]
  },
  {
   "cell_type": "code",
   "execution_count": null,
   "id": "229ba647",
   "metadata": {},
   "outputs": [],
   "source": []
  },
  {
   "cell_type": "code",
   "execution_count": null,
   "id": "65ecf592",
   "metadata": {},
   "outputs": [],
   "source": [
    "\n",
    "    "
   ]
  }
 ],
 "metadata": {
  "celltoolbar": "Slideshow",
  "kernelspec": {
   "display_name": "Python 3 (ipykernel)",
   "language": "python",
   "name": "python3"
  },
  "language_info": {
   "codemirror_mode": {
    "name": "ipython",
    "version": 3
   },
   "file_extension": ".py",
   "mimetype": "text/x-python",
   "name": "python",
   "nbconvert_exporter": "python",
   "pygments_lexer": "ipython3",
   "version": "3.12.10"
  },
  "rise": {
   "progress": true,
   "slideNumber": true,
   "theme": "night"
  }
 },
 "nbformat": 4,
 "nbformat_minor": 5
}
