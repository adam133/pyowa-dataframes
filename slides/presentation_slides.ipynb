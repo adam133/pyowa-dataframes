{
 "cells": [
  {
   "cell_type": "markdown",
   "id": "91753c26",
   "metadata": {
    "slideshow": {
     "slide_type": "slide"
    }
   },
   "source": [
    "# Framing DataFrames\n",
    "\n",
    "### Pyowa - 2025-05-27\n",
    "### Adam Best"
   ]
  },
  {
   "cell_type": "markdown",
   "id": "5dc522ac",
   "metadata": {
    "slideshow": {
     "slide_type": "slide"
    }
   },
   "source": [
    "# About Me\n",
    "\n",
    "- 6 years of experience as a data engineer - 10 years with data\n",
    "- John Deere Engine Works - quality engineering\n",
    "- General Dynamics IT - healthcare data warehouse\n",
    "- Dwolla - data platform/warehouse + AWS\n",
    "- John Deere Financial - Database Administration\n",
    "- Tractor Zoom - data platform"
   ]
  },
  {
   "cell_type": "markdown",
   "id": "c4f4b080",
   "metadata": {
    "slideshow": {
     "slide_type": "slide"
    }
   },
   "source": [
    "# Goals\n",
    "- Understanding of when and how to use a DataFrame\n",
    "- What options are out there, and what tools might be best for your use case\n",
    "\n",
    "### Will not cover\n",
    "- Exact syntax"
   ]
  },
  {
   "cell_type": "markdown",
   "id": "56eb6b2c",
   "metadata": {
    "slideshow": {
     "slide_type": "slide"
    }
   },
   "source": [
    "# What is a DataFrame?"
   ]
  },
  {
   "cell_type": "markdown",
   "id": "4c3d94bf",
   "metadata": {
    "slideshow": {
     "slide_type": "fragment"
    }
   },
   "source": [
    "### Programmable Excel\n",
    "- 2D table of data\n",
    "- Rows and columns\n",
    "- Cells contain data\n",
    "- Data is homogeneous\n",
    "- Data is aligned\n",
    "- Data is indexed\n",
    "- Data is mutable"
   ]
  },
  {
   "cell_type": "markdown",
   "id": "4daceb41",
   "metadata": {
    "slideshow": {
     "slide_type": "slide"
    }
   },
   "source": [
    "# Common data tasks\n",
    "\n",
    "- Selecting and filtering\n",
    "- Aggregations - sum, count\n",
    "- Joining or merging\n",
    "- Grouping"
   ]
  },
  {
   "cell_type": "code",
   "execution_count": 1,
   "id": "819b7b05",
   "metadata": {
    "slideshow": {
     "slide_type": "slide"
    }
   },
   "outputs": [
    {
     "data": {
      "text/html": [
       "<div>\n",
       "<style scoped>\n",
       "    .dataframe tbody tr th:only-of-type {\n",
       "        vertical-align: middle;\n",
       "    }\n",
       "\n",
       "    .dataframe tbody tr th {\n",
       "        vertical-align: top;\n",
       "    }\n",
       "\n",
       "    .dataframe thead th {\n",
       "        text-align: right;\n",
       "    }\n",
       "</style>\n",
       "<table border=\"1\" class=\"dataframe\">\n",
       "  <thead>\n",
       "    <tr style=\"text-align: right;\">\n",
       "      <th></th>\n",
       "      <th>name</th>\n",
       "      <th>age</th>\n",
       "      <th>city</th>\n",
       "    </tr>\n",
       "  </thead>\n",
       "  <tbody>\n",
       "    <tr>\n",
       "      <th>0</th>\n",
       "      <td>John</td>\n",
       "      <td>20</td>\n",
       "      <td>New York</td>\n",
       "    </tr>\n",
       "    <tr>\n",
       "      <th>1</th>\n",
       "      <td>Jane</td>\n",
       "      <td>21</td>\n",
       "      <td>Los Angeles</td>\n",
       "    </tr>\n",
       "    <tr>\n",
       "      <th>2</th>\n",
       "      <td>Jim</td>\n",
       "      <td>22</td>\n",
       "      <td>Chicago</td>\n",
       "    </tr>\n",
       "    <tr>\n",
       "      <th>3</th>\n",
       "      <td>Jill</td>\n",
       "      <td>23</td>\n",
       "      <td>Houston</td>\n",
       "    </tr>\n",
       "  </tbody>\n",
       "</table>\n",
       "</div>"
      ],
      "text/plain": [
       "   name  age         city\n",
       "0  John   20     New York\n",
       "1  Jane   21  Los Angeles\n",
       "2   Jim   22      Chicago\n",
       "3  Jill   23      Houston"
      ]
     },
     "execution_count": 1,
     "metadata": {},
     "output_type": "execute_result"
    }
   ],
   "source": [
    "# Example DataFrame\n",
    "from pandas import DataFrame\n",
    "\n",
    "df = DataFrame({\n",
    "    'name': ['John', 'Jane', 'Jim', 'Jill'],\n",
    "    'age': [20, 21, 22, 23],\n",
    "    'city': ['New York', 'Los Angeles', 'Chicago', 'Houston']\n",
    "})\n",
    "df.head()"
   ]
  },
  {
   "cell_type": "markdown",
   "id": "f0dbb214",
   "metadata": {
    "slideshow": {
     "slide_type": "slide"
    }
   },
   "source": [
    "# What isn't a DataFrame?"
   ]
  },
  {
   "cell_type": "code",
   "execution_count": 2,
   "id": "3c0acc1f",
   "metadata": {
    "slideshow": {
     "slide_type": "fragment"
    }
   },
   "outputs": [],
   "source": [
    "# List of Dicts\n",
    "data = [{\"name\": \"Alice\", \"age\": 30}, {\"name\": \"Bob\", \"age\": 25}]\n",
    "# No indexing or vectorized operations on fields\n",
    "# e.g. fetch all records with age > 25"
   ]
  },
  {
   "cell_type": "code",
   "execution_count": 3,
   "id": "229ba647",
   "metadata": {
    "slideshow": {
     "slide_type": "fragment"
    }
   },
   "outputs": [],
   "source": [
    "# Dict of List\n",
    "data = {\"name\": [\"Alice\", \"Bob\"], \"age\": [30, 25]}\n",
    "# Column based, but lacks type and shape enforcement"
   ]
  },
  {
   "cell_type": "code",
   "execution_count": 4,
   "id": "65ecf592",
   "metadata": {
    "slideshow": {
     "slide_type": "fragment"
    }
   },
   "outputs": [],
   "source": [
    "# Named Tuple + Dataclasses (closer)\n",
    "from collections import namedtuple\n",
    "\n",
    "Person = namedtuple(\"Person\", [\"name\", \"age\"])\n",
    "people = [Person(\"Alice\", 30), Person(\"Bob\", 25)]\n",
    "# again, no vectorized operations or indexing"
   ]
  },
  {
   "cell_type": "markdown",
   "id": "9bb3f0fb",
   "metadata": {
    "slideshow": {
     "slide_type": "slide"
    }
   },
   "source": [
    "# SQL Tables\n",
    "```sql\n",
    "CREATE TABLE people\n",
    "(id int,\n",
    " name, varchar(30),\n",
    " age, int);\n",
    "\n",
    " SELECT COUNT(*) FROM people WHERE age > 30;\n",
    "```\n",
    "- Very similar functionality!"
   ]
  },
  {
   "cell_type": "markdown",
   "id": "e91b9ae6",
   "metadata": {
    "slideshow": {
     "slide_type": "slide"
    }
   },
   "source": [
    "# Summary\n",
    "Each of these represents structured or semi-structured data, but only DataFrames combine labeling, tabular structure, and vectorized operations in one unified tool."
   ]
  },
  {
   "cell_type": "markdown",
   "id": "cdc2ebb3",
   "metadata": {
    "slideshow": {
     "slide_type": "slide"
    }
   },
   "source": [
    "# So you want to use a DataFrame\n",
    "# 🤔"
   ]
  },
  {
   "cell_type": "markdown",
   "id": "39583341",
   "metadata": {
    "slideshow": {
     "slide_type": "subslide"
    }
   },
   "source": [
    "# The options (some of them)\n",
    "- Pandas ~2012\n",
    "- PySpark ~2014\n",
    "- Dask ~2015\n",
    "- Polars ~2021\n",
    "- Daft ~2023"
   ]
  },
  {
   "cell_type": "markdown",
   "id": "c788a207",
   "metadata": {
    "slideshow": {
     "slide_type": "slide"
    }
   },
   "source": [
    "# Pandas\n",
    "[Docs](https://pandas.pydata.org/docs/reference/index.html)\n",
    "- huge userbase\n",
    "- mature and flexible\n",
    "- single threaded, memory constrained\n",
    "- Cython/C based"
   ]
  },
  {
   "cell_type": "code",
   "execution_count": 9,
   "id": "7676bd3e",
   "metadata": {
    "slideshow": {
     "slide_type": "skip"
    }
   },
   "outputs": [],
   "source": [
    "dummy_data = {\n",
    "    \"name\": [\"John\", \"Jane\", \"Jim\", \"Jill\"],\n",
    "    \"age\": [20, 21, 22, 23],\n",
    "    \"city\": [\"New York\", \"Los Angeles\", \"Chicago\", \"Houston\"],\n",
    "}"
   ]
  },
  {
   "cell_type": "code",
   "execution_count": 10,
   "id": "19bc0729",
   "metadata": {
    "slideshow": {
     "slide_type": "slide"
    }
   },
   "outputs": [
    {
     "data": {
      "text/plain": [
       "city\n",
       "Chicago        22.0\n",
       "Houston        23.0\n",
       "Los Angeles    21.0\n",
       "New York       20.0\n",
       "Name: age, dtype: float64"
      ]
     },
     "execution_count": 10,
     "metadata": {},
     "output_type": "execute_result"
    }
   ],
   "source": [
    "import pandas as pd\n",
    "\n",
    "pd_df = pd.DataFrame(dummy_data)\n",
    "\n",
    "avg_age_by_city_pandas = pd_df.groupby(\"city\")[\"age\"].mean()\n",
    "avg_age_by_city_pandas.head()"
   ]
  },
  {
   "cell_type": "markdown",
   "id": "bd716d5f",
   "metadata": {
    "slideshow": {
     "slide_type": "slide"
    }
   },
   "source": [
    "# Polars\n",
    "[Docs](https://docs.pola.rs/user-guide/getting-started/)\n",
    "- Fast - parallel and lazy evaluation\n",
    "- Less flexible for edge cases\n",
    "- Rust based"
   ]
  },
  {
   "cell_type": "code",
   "execution_count": 7,
   "id": "ba887523",
   "metadata": {
    "slideshow": {
     "slide_type": "slide"
    }
   },
   "outputs": [
    {
     "data": {
      "text/html": [
       "<div><style>\n",
       ".dataframe > thead > tr,\n",
       ".dataframe > tbody > tr {\n",
       "  text-align: right;\n",
       "  white-space: pre-wrap;\n",
       "}\n",
       "</style>\n",
       "<small>shape: (4, 2)</small><table border=\"1\" class=\"dataframe\"><thead><tr><th>city</th><th>age</th></tr><tr><td>str</td><td>f64</td></tr></thead><tbody><tr><td>&quot;Houston&quot;</td><td>23.0</td></tr><tr><td>&quot;Los Angeles&quot;</td><td>21.0</td></tr><tr><td>&quot;New York&quot;</td><td>20.0</td></tr><tr><td>&quot;Chicago&quot;</td><td>22.0</td></tr></tbody></table></div>"
      ],
      "text/plain": [
       "shape: (4, 2)\n",
       "┌─────────────┬──────┐\n",
       "│ city        ┆ age  │\n",
       "│ ---         ┆ ---  │\n",
       "│ str         ┆ f64  │\n",
       "╞═════════════╪══════╡\n",
       "│ Houston     ┆ 23.0 │\n",
       "│ Los Angeles ┆ 21.0 │\n",
       "│ New York    ┆ 20.0 │\n",
       "│ Chicago     ┆ 22.0 │\n",
       "└─────────────┴──────┘"
      ]
     },
     "execution_count": 7,
     "metadata": {},
     "output_type": "execute_result"
    }
   ],
   "source": [
    "import polars as pl\n",
    "\n",
    "pl_df = pl.DataFrame(dummy_data)\n",
    "\n",
    "avg_age_by_city_polars = pl_df.group_by(\"city\").agg(pl.col(\"age\").mean())\n",
    "avg_age_by_city_polars.head()"
   ]
  },
  {
   "cell_type": "markdown",
   "id": "c9aae67c",
   "metadata": {
    "slideshow": {
     "slide_type": "slide"
    }
   },
   "source": [
    "# PySpark\n",
    "[Docs](https://spark.apache.org/docs/latest/api/python/reference/pyspark.html)\n",
    "- Massively horizontally scalable\n",
    "- SQL syntax support\n",
    "- high overhead for small datasets\n",
    "- JVM - Scala based"
   ]
  },
  {
   "cell_type": "code",
   "execution_count": 19,
   "id": "3e85ca1f",
   "metadata": {
    "slideshow": {
     "slide_type": "slide"
    }
   },
   "outputs": [
    {
     "name": "stdout",
     "output_type": "stream",
     "text": [
      "+-----------+--------+\n",
      "|       city|avg(age)|\n",
      "+-----------+--------+\n",
      "|   New York|    20.0|\n",
      "|Los Angeles|    21.0|\n",
      "|    Chicago|    22.0|\n",
      "|    Houston|    23.0|\n",
      "+-----------+--------+\n",
      "\n"
     ]
    }
   ],
   "source": [
    "from pyspark.sql import SparkSession\n",
    "from pyspark.sql.types import StructType, StructField, StringType, IntegerType\n",
    "\n",
    "spark = SparkSession.builder.appName(\"DataFrameDemo\").getOrCreate()\n",
    "\n",
    "schema = StructType([\n",
    "    StructField(\"name\", StringType()),\n",
    "    StructField(\"age\", IntegerType()),\n",
    "    StructField(\"city\", StringType())\n",
    "])\n",
    "\n",
    "spk_df = spark.createDataFrame(pd_df,  # Note: Pandas DataFrame source\n",
    "                               schema=schema)\n",
    "\n",
    "avg_age_by_city_spark = spk_df.groupBy(\"city\").mean(\"age\")\n",
    "avg_age_by_city_spark.show()\n"
   ]
  },
  {
   "cell_type": "markdown",
   "id": "43bbc736",
   "metadata": {
    "slideshow": {
     "slide_type": "slide"
    }
   },
   "source": [
    "# Dask\n",
    "[Docs](https://docs.dask.org/en/latest/dataframe-api.html)\n",
    "- Parallel and lazy evaluation\n",
    "- Similar to Pandas API\n",
    "- Handles larger than memory datasets\n",
    "- Python based\n",
    "- Delegates to other libraries for execution"
   ]
  },
  {
   "cell_type": "code",
   "execution_count": 17,
   "id": "7a28b815",
   "metadata": {
    "slideshow": {
     "slide_type": "slide"
    }
   },
   "outputs": [
    {
     "data": {
      "text/plain": [
       "city\n",
       "Los Angeles    21.0\n",
       "New York       20.0\n",
       "Chicago        22.0\n",
       "Houston        23.0\n",
       "Name: age, dtype: float64"
      ]
     },
     "execution_count": 17,
     "metadata": {},
     "output_type": "execute_result"
    }
   ],
   "source": [
    "import dask.dataframe as dd\n",
    "\n",
    "dask_df = dd.from_dict(dummy_data, npartitions=2)\n",
    "avg_age_by_city_dask = dask_df.groupby(\"city\")[\"age\"].mean()\n",
    "avg_age_by_city_dask.compute()  # Note: necessary to trigger computation\n",
    "avg_age_by_city_dask.head()"
   ]
  },
  {
   "cell_type": "markdown",
   "id": "009a3db3",
   "metadata": {
    "slideshow": {
     "slide_type": "slide"
    }
   },
   "source": [
    "# Daft\n",
    "[Docs](https://www.getdaft.io/projects/docs/en/stable/quickstart/)\n",
    "- Python + Rust + SQL\n",
    "- Scales Vertically and Horizontally (with Ray)\n",
    "- Cloud Storage Optimized"
   ]
  },
  {
   "cell_type": "code",
   "execution_count": 21,
   "id": "cc990738",
   "metadata": {
    "slideshow": {
     "slide_type": "slide"
    }
   },
   "outputs": [
    {
     "data": {
      "text/html": [
       "<div>\n",
       "<table class=\"dataframe\">\n",
       "<thead><tr><th style=\"text-wrap: nowrap; max-width:192px; overflow:auto; text-align:left\">city<br />Utf8</th><th style=\"text-wrap: nowrap; max-width:192px; overflow:auto; text-align:left\">age<br />Float64</th></tr></thead>\n",
       "<tbody>\n",
       "<tr><td><div style=\"text-align:left; max-width:192px; max-height:64px; overflow:auto\">Chicago</div></td><td><div style=\"text-align:left; max-width:192px; max-height:64px; overflow:auto\">22</div></td></tr>\n",
       "<tr><td><div style=\"text-align:left; max-width:192px; max-height:64px; overflow:auto\">New York</div></td><td><div style=\"text-align:left; max-width:192px; max-height:64px; overflow:auto\">20</div></td></tr>\n",
       "<tr><td><div style=\"text-align:left; max-width:192px; max-height:64px; overflow:auto\">Houston</div></td><td><div style=\"text-align:left; max-width:192px; max-height:64px; overflow:auto\">23</div></td></tr>\n",
       "<tr><td><div style=\"text-align:left; max-width:192px; max-height:64px; overflow:auto\">Los Angeles</div></td><td><div style=\"text-align:left; max-width:192px; max-height:64px; overflow:auto\">21</div></td></tr>\n",
       "</tbody>\n",
       "</table>\n",
       "<small>(Showing first 4 of 4 rows)</small>\n",
       "</div>"
      ],
      "text/plain": [
       "╭─────────────┬─────────╮\n",
       "│ city        ┆ age     │\n",
       "│ ---         ┆ ---     │\n",
       "│ Utf8        ┆ Float64 │\n",
       "╞═════════════╪═════════╡\n",
       "│ Chicago     ┆ 22      │\n",
       "├╌╌╌╌╌╌╌╌╌╌╌╌╌┼╌╌╌╌╌╌╌╌╌┤\n",
       "│ New York    ┆ 20      │\n",
       "├╌╌╌╌╌╌╌╌╌╌╌╌╌┼╌╌╌╌╌╌╌╌╌┤\n",
       "│ Houston     ┆ 23      │\n",
       "├╌╌╌╌╌╌╌╌╌╌╌╌╌┼╌╌╌╌╌╌╌╌╌┤\n",
       "│ Los Angeles ┆ 21      │\n",
       "╰─────────────┴─────────╯\n",
       "\n",
       "(Showing first 4 of 4 rows)"
      ]
     },
     "metadata": {},
     "output_type": "display_data"
    }
   ],
   "source": [
    "import daft\n",
    "\n",
    "daft_df = daft.from_pydict(dummy_data)\n",
    "avg_age_by_city_daft = daft_df.groupby(\"city\").agg(daft.col(\"age\").mean())\n",
    "\n",
    "avg_age_by_city_daft.show()"
   ]
  },
  {
   "cell_type": "code",
   "execution_count": null,
   "id": "3d30b505",
   "metadata": {
    "slideshow": {
     "slide_type": "slide"
    }
   },
   "outputs": [],
   "source": [
    "# Side by side\n",
    "pd_df.groupby(\"city\")[\"age\"].mean()  # Pandas\n",
    "pl_df.group_by(\"city\").agg(pl.col(\"age\").mean())  # Polars\n",
    "spk_df.groupBy(\"city\").mean(\"age\")  # PySpark\n",
    "dask_df.groupby(\"city\")[\"age\"].mean()  # Dask\n",
    "daft_df.groupby(\"city\").agg(daft.col(\"age\").mean())  # Daft"
   ]
  },
  {
   "cell_type": "markdown",
   "id": "fe722f86",
   "metadata": {
    "slideshow": {
     "slide_type": "fragment"
    }
   },
   "source": [
    "![Standards](./resources/standards.png)"
   ]
  },
  {
   "cell_type": "markdown",
   "id": "3a134c0a",
   "metadata": {
    "slideshow": {
     "slide_type": "slide"
    }
   },
   "source": [
    "# Enter Ibis (and others)\n",
    "[Docs](https://ibis-project.org/tutorials/basics)\n",
    "> Ibis defines a Python dataframe API that executes on any query engine – the frontend for any backend data platform, with nearly 20 backends today. This allows Ibis to have excellent performance – as good as the backend it is connected to – with a consistent user experience."
   ]
  },
  {
   "cell_type": "markdown",
   "id": "03dc5b0d",
   "metadata": {
    "slideshow": {
     "slide_type": "slide"
    }
   },
   "source": [
    "# Modin\n",
    "[Docs](https://modin.readthedocs.io/en/latest/getting_started/why_modin/modin_vs_dask_vs_koalas.html)\n",
    "> Libraries such as Dask DataFrame (DaskDF for short) and Koalas aim to support the pandas API on top of distributed computing frameworks, Dask and Spark respectively. Instead, Modin aims to preserve the pandas API and behavior as is, while abstracting away the details of the distributed computing framework underneath. Thus, the aims of these libraries are fundamentally different."
   ]
  },
  {
   "cell_type": "markdown",
   "id": "bdcb2409",
   "metadata": {
    "slideshow": {
     "slide_type": "slide"
    }
   },
   "source": [
    "# More Modin\n",
    "> Specifically, Modin\n",
    "    - enables pandas-like row and column-parallel operations, unlike DaskDF and Koalas that only support row-parallel operations\n",
    "    - indexing & ordering semantics, unlike DaskDF and Koalas that deviate from these semantics\n",
    "    - eager execution, unlike DaskDF and Koalas that provide lazy execution"
   ]
  },
  {
   "cell_type": "markdown",
   "id": "67d2e24b",
   "metadata": {
    "slideshow": {
     "slide_type": "slide"
    }
   },
   "source": [
    "# Comparing\n",
    "\n",
    "| Feature/Need             | pandas | Polars | Dask | PySpark | Daft  |\n",
    "|--------------------------|--------|--------|------|---------|-------|\n",
    "| Easy local work          | ✅     | ✅     | ⚠️   | ⚠️      | ✅    |\n",
    "| Huge files (10M+ rows)   | ⚠️     | ✅     | ✅   | ✅      | ✅    |\n",
    "| Multi-core               | ❌     | ✅     | ✅   | ✅      | ✅    |\n",
    "| Clustered / distributed  | ❌     | ⚠️     | ✅   | ✅      | ✅    |\n",
    "| SQL-like syntax          | ⚠️     | ⚠️     | ⚠️   | ✅      | ⚠️    |\n",
    "| Learning curve           | Easy   | Medium | Medium | Steep  | Medium |"
   ]
  },
  {
   "cell_type": "markdown",
   "id": "a0616964",
   "metadata": {
    "slideshow": {
     "slide_type": "slide"
    }
   },
   "source": [
    "### Another Comparison table\n",
    "[Table](.resources/comparison.png)"
   ]
  },
  {
   "cell_type": "markdown",
   "id": "39ed3d43",
   "metadata": {
    "slideshow": {
     "slide_type": "slide"
    }
   },
   "source": [
    "### Quick Benchmarks\n",
    "[Link](./resources/benchmarks.html)\n",
    "![Benchmarks](./resources/benchmarks.png)"
   ]
  },
  {
   "cell_type": "code",
   "execution_count": 2,
   "id": "e04e2c6a",
   "metadata": {
    "slideshow": {
     "slide_type": "slide"
    }
   },
   "outputs": [
    {
     "name": "stderr",
     "output_type": "stream",
     "text": [
      "/Users/abest/git/personal/pyowa-dataframes/.venv/lib/python3.12/site-packages/tqdm/auto.py:21: TqdmWarning: IProgress not found. Please update jupyter and ipywidgets. See https://ipywidgets.readthedocs.io/en/stable/user_install.html\n",
      "  from .autonotebook import tqdm as notebook_tqdm\n"
     ]
    }
   ],
   "source": [
    "# Let's get our hands dirty\n",
    "import daft\n",
    "\n",
    "taxi_data = \"../resources/2023_Green_Taxi_Trip_Data_20250514.csv\"\n",
    "df = daft.read_csv(taxi_data).collect()"
   ]
  },
  {
   "cell_type": "code",
   "execution_count": 3,
   "id": "30595567",
   "metadata": {
    "slideshow": {
     "slide_type": "slide"
    }
   },
   "outputs": [
    {
     "data": {
      "text/html": [
       "<div>\n",
       "<table class=\"dataframe\">\n",
       "<thead><tr><th style=\"text-wrap: nowrap; max-width:192px; overflow:auto; text-align:left\">VendorID<br />Int64</th><th style=\"text-wrap: nowrap; max-width:192px; overflow:auto; text-align:left\">lpep_pickup_datetime<br />Utf8</th><th style=\"text-wrap: nowrap; max-width:192px; overflow:auto; text-align:left\">lpep_dropoff_datetime<br />Utf8</th><th style=\"text-wrap: nowrap; max-width:192px; overflow:auto; text-align:left\">store_and_fwd_flag<br />Utf8</th><th style=\"text-wrap: nowrap; max-width:192px; overflow:auto; text-align:left\">RatecodeID<br />Int64</th><th style=\"text-wrap: nowrap; max-width:192px; overflow:auto; text-align:left\">PULocationID<br />Int64</th><th style=\"text-wrap: nowrap; max-width:192px; overflow:auto; text-align:left\">DOLocationID<br />Int64</th><th style=\"text-wrap: nowrap; max-width:192px; overflow:auto; text-align:left\">passenger_count<br />Int64</th><th style=\"text-wrap: nowrap; max-width:192px; overflow:auto; text-align:left\">trip_distance<br />Float64</th><th style=\"text-wrap: nowrap; max-width:192px; overflow:auto; text-align:left\">fare_amount<br />Float64</th><th style=\"text-wrap: nowrap; max-width:192px; overflow:auto; text-align:left\">extra<br />Float64</th><th style=\"text-wrap: nowrap; max-width:192px; overflow:auto; text-align:left\">mta_tax<br />Float64</th><th style=\"text-wrap: nowrap; max-width:192px; overflow:auto; text-align:left\">tip_amount<br />Float64</th><th style=\"text-wrap: nowrap; max-width:192px; overflow:auto; text-align:left\">tolls_amount<br />Float64</th><th style=\"text-wrap: nowrap; max-width:192px; overflow:auto; text-align:left\">ehail_fee<br />Null</th><th style=\"text-wrap: nowrap; max-width:192px; overflow:auto; text-align:left\">improvement_surcharge<br />Float64</th><th style=\"text-wrap: nowrap; max-width:192px; overflow:auto; text-align:left\">total_amount<br />Float64</th><th style=\"text-wrap: nowrap; max-width:192px; overflow:auto; text-align:left\">payment_type<br />Int64</th><th style=\"text-wrap: nowrap; max-width:192px; overflow:auto; text-align:left\">trip_type<br />Int64</th><th style=\"text-wrap: nowrap; max-width:192px; overflow:auto; text-align:left\">congestion_surcharge<br />Float64</th></tr></thead>\n",
       "<tbody>\n",
       "<tr><td><div style=\"text-align:left; max-width:192px; max-height:64px; overflow:auto\">1</div></td><td><div style=\"text-align:left; max-width:192px; max-height:64px; overflow:auto\">01/22/2023 02:39:51 PM</div></td><td><div style=\"text-align:left; max-width:192px; max-height:64px; overflow:auto\">01/22/2023 03:13:48 PM</div></td><td><div style=\"text-align:left; max-width:192px; max-height:64px; overflow:auto\">N</div></td><td><div style=\"text-align:left; max-width:192px; max-height:64px; overflow:auto\">1</div></td><td><div style=\"text-align:left; max-width:192px; max-height:64px; overflow:auto\">25</div></td><td><div style=\"text-align:left; max-width:192px; max-height:64px; overflow:auto\">75</div></td><td><div style=\"text-align:left; max-width:192px; max-height:64px; overflow:auto\">1</div></td><td><div style=\"text-align:left; max-width:192px; max-height:64px; overflow:auto\">9.7</div></td><td><div style=\"text-align:left; max-width:192px; max-height:64px; overflow:auto\">45.7</div></td><td><div style=\"text-align:left; max-width:192px; max-height:64px; overflow:auto\">2.75</div></td><td><div style=\"text-align:left; max-width:192px; max-height:64px; overflow:auto\">1.5</div></td><td><div style=\"text-align:left; max-width:192px; max-height:64px; overflow:auto\">5</div></td><td><div style=\"text-align:left; max-width:192px; max-height:64px; overflow:auto\">0</div></td><td><div style=\"text-align:left; max-width:192px; max-height:64px; overflow:auto\">None</div></td><td><div style=\"text-align:left; max-width:192px; max-height:64px; overflow:auto\">1</div></td><td><div style=\"text-align:left; max-width:192px; max-height:64px; overflow:auto\">54.95</div></td><td><div style=\"text-align:left; max-width:192px; max-height:64px; overflow:auto\">1</div></td><td><div style=\"text-align:left; max-width:192px; max-height:64px; overflow:auto\">1</div></td><td><div style=\"text-align:left; max-width:192px; max-height:64px; overflow:auto\">2.75</div></td></tr>\n",
       "<tr><td><div style=\"text-align:left; max-width:192px; max-height:64px; overflow:auto\">1</div></td><td><div style=\"text-align:left; max-width:192px; max-height:64px; overflow:auto\">01/22/2023 02:38:23 PM</div></td><td><div style=\"text-align:left; max-width:192px; max-height:64px; overflow:auto\">01/22/2023 02:45:07 PM</div></td><td><div style=\"text-align:left; max-width:192px; max-height:64px; overflow:auto\">N</div></td><td><div style=\"text-align:left; max-width:192px; max-height:64px; overflow:auto\">1</div></td><td><div style=\"text-align:left; max-width:192px; max-height:64px; overflow:auto\">75</div></td><td><div style=\"text-align:left; max-width:192px; max-height:64px; overflow:auto\">236</div></td><td><div style=\"text-align:left; max-width:192px; max-height:64px; overflow:auto\">1</div></td><td><div style=\"text-align:left; max-width:192px; max-height:64px; overflow:auto\">0.9</div></td><td><div style=\"text-align:left; max-width:192px; max-height:64px; overflow:auto\">7.2</div></td><td><div style=\"text-align:left; max-width:192px; max-height:64px; overflow:auto\">2.75</div></td><td><div style=\"text-align:left; max-width:192px; max-height:64px; overflow:auto\">1.5</div></td><td><div style=\"text-align:left; max-width:192px; max-height:64px; overflow:auto\">2.25</div></td><td><div style=\"text-align:left; max-width:192px; max-height:64px; overflow:auto\">0</div></td><td><div style=\"text-align:left; max-width:192px; max-height:64px; overflow:auto\">None</div></td><td><div style=\"text-align:left; max-width:192px; max-height:64px; overflow:auto\">1</div></td><td><div style=\"text-align:left; max-width:192px; max-height:64px; overflow:auto\">13.7</div></td><td><div style=\"text-align:left; max-width:192px; max-height:64px; overflow:auto\">1</div></td><td><div style=\"text-align:left; max-width:192px; max-height:64px; overflow:auto\">1</div></td><td><div style=\"text-align:left; max-width:192px; max-height:64px; overflow:auto\">2.75</div></td></tr>\n",
       "<tr><td><div style=\"text-align:left; max-width:192px; max-height:64px; overflow:auto\">1</div></td><td><div style=\"text-align:left; max-width:192px; max-height:64px; overflow:auto\">01/22/2023 02:34:32 PM</div></td><td><div style=\"text-align:left; max-width:192px; max-height:64px; overflow:auto\">01/22/2023 02:34:32 PM</div></td><td><div style=\"text-align:left; max-width:192px; max-height:64px; overflow:auto\">Y</div></td><td><div style=\"text-align:left; max-width:192px; max-height:64px; overflow:auto\">1</div></td><td><div style=\"text-align:left; max-width:192px; max-height:64px; overflow:auto\">21</div></td><td><div style=\"text-align:left; max-width:192px; max-height:64px; overflow:auto\">264</div></td><td><div style=\"text-align:left; max-width:192px; max-height:64px; overflow:auto\">3</div></td><td><div style=\"text-align:left; max-width:192px; max-height:64px; overflow:auto\">0</div></td><td><div style=\"text-align:left; max-width:192px; max-height:64px; overflow:auto\">31</div></td><td><div style=\"text-align:left; max-width:192px; max-height:64px; overflow:auto\">0</div></td><td><div style=\"text-align:left; max-width:192px; max-height:64px; overflow:auto\">1.5</div></td><td><div style=\"text-align:left; max-width:192px; max-height:64px; overflow:auto\">0</div></td><td><div style=\"text-align:left; max-width:192px; max-height:64px; overflow:auto\">0</div></td><td><div style=\"text-align:left; max-width:192px; max-height:64px; overflow:auto\">None</div></td><td><div style=\"text-align:left; max-width:192px; max-height:64px; overflow:auto\">1</div></td><td><div style=\"text-align:left; max-width:192px; max-height:64px; overflow:auto\">32.5</div></td><td><div style=\"text-align:left; max-width:192px; max-height:64px; overflow:auto\">2</div></td><td><div style=\"text-align:left; max-width:192px; max-height:64px; overflow:auto\">1</div></td><td><div style=\"text-align:left; max-width:192px; max-height:64px; overflow:auto\">0</div></td></tr>\n",
       "</tbody>\n",
       "</table>\n",
       "<small>(Showing first 3 rows)</small>\n",
       "</div>"
      ],
      "text/plain": [
       "╭──────────┬──────────────────────┬─────────────────────┬─────────────┬──────────────┬───────────┬─────────────────────╮\n",
       "│ VendorID ┆ lpep_pickup_datetime ┆ lpep_dropoff_dateti ┆      …      ┆ payment_type ┆ trip_type ┆ congestion_surcharg │\n",
       "│ ---      ┆ ---                  ┆ me                  ┆             ┆ ---          ┆ ---       ┆ e                   │\n",
       "│ Int64    ┆ Utf8                 ┆ ---                 ┆ (14 hidden) ┆ Int64        ┆ Int64     ┆ ---                 │\n",
       "│          ┆                      ┆ Utf8                ┆             ┆              ┆           ┆ Float64             │\n",
       "╞══════════╪══════════════════════╪═════════════════════╪═════════════╪══════════════╪═══════════╪═════════════════════╡\n",
       "│ 1        ┆ 01/22/2023 02:39:51  ┆ 01/22/2023 03:13:48 ┆ …           ┆ 1            ┆ 1         ┆ 2.75                │\n",
       "│          ┆ PM                   ┆ PM                  ┆             ┆              ┆           ┆                     │\n",
       "├╌╌╌╌╌╌╌╌╌╌┼╌╌╌╌╌╌╌╌╌╌╌╌╌╌╌╌╌╌╌╌╌╌┼╌╌╌╌╌╌╌╌╌╌╌╌╌╌╌╌╌╌╌╌╌┼╌╌╌╌╌╌╌╌╌╌╌╌╌┼╌╌╌╌╌╌╌╌╌╌╌╌╌╌┼╌╌╌╌╌╌╌╌╌╌╌┼╌╌╌╌╌╌╌╌╌╌╌╌╌╌╌╌╌╌╌╌╌┤\n",
       "│ 1        ┆ 01/22/2023 02:38:23  ┆ 01/22/2023 02:45:07 ┆ …           ┆ 1            ┆ 1         ┆ 2.75                │\n",
       "│          ┆ PM                   ┆ PM                  ┆             ┆              ┆           ┆                     │\n",
       "├╌╌╌╌╌╌╌╌╌╌┼╌╌╌╌╌╌╌╌╌╌╌╌╌╌╌╌╌╌╌╌╌╌┼╌╌╌╌╌╌╌╌╌╌╌╌╌╌╌╌╌╌╌╌╌┼╌╌╌╌╌╌╌╌╌╌╌╌╌┼╌╌╌╌╌╌╌╌╌╌╌╌╌╌┼╌╌╌╌╌╌╌╌╌╌╌┼╌╌╌╌╌╌╌╌╌╌╌╌╌╌╌╌╌╌╌╌╌┤\n",
       "│ 1        ┆ 01/22/2023 02:34:32  ┆ 01/22/2023 02:34:32 ┆ …           ┆ 2            ┆ 1         ┆ 0                   │\n",
       "│          ┆ PM                   ┆ PM                  ┆             ┆              ┆           ┆                     │\n",
       "╰──────────┴──────────────────────┴─────────────────────┴─────────────┴──────────────┴───────────┴─────────────────────╯\n",
       "\n",
       "(Showing first 3 rows)"
      ]
     },
     "metadata": {},
     "output_type": "display_data"
    },
    {
     "data": {
      "text/html": [
       "<div>\n",
       "<table class=\"dataframe\">\n",
       "<thead><tr><th style=\"text-wrap: nowrap; max-width:192px; overflow:auto; text-align:left\">count<br />UInt64</th></tr></thead>\n",
       "<tbody>\n",
       "<tr><td><div style=\"text-align:left; max-width:192px; max-height:64px; overflow:auto\">787060</div></td></tr>\n",
       "</tbody>\n",
       "</table>\n",
       "<small>(Showing first 1 of 1 rows)</small>\n",
       "</div>"
      ],
      "text/plain": [
       "╭────────╮\n",
       "│ count  │\n",
       "│ ---    │\n",
       "│ UInt64 │\n",
       "╞════════╡\n",
       "│ 787060 │\n",
       "╰────────╯\n",
       "\n",
       "(Showing first 1 of 1 rows)"
      ]
     },
     "execution_count": 3,
     "metadata": {},
     "output_type": "execute_result"
    }
   ],
   "source": [
    "# sample it\n",
    "df.show(3)\n",
    "df.count().collect()"
   ]
  },
  {
   "cell_type": "code",
   "execution_count": 4,
   "id": "a066dc7d",
   "metadata": {
    "slideshow": {
     "slide_type": "slide"
    }
   },
   "outputs": [
    {
     "data": {
      "text/html": [
       "<div>\n",
       "<table class=\"dataframe\">\n",
       "<thead><tr><th style=\"text-wrap: nowrap; max-width:192px; overflow:auto; text-align:left\">is_long_multi<br />Boolean</th><th style=\"text-wrap: nowrap; max-width:192px; overflow:auto; text-align:left\">count<br />UInt64</th></tr></thead>\n",
       "<tbody>\n",
       "<tr><td><div style=\"text-align:left; max-width:192px; max-height:64px; overflow:auto\">None</div></td><td><div style=\"text-align:left; max-width:192px; max-height:64px; overflow:auto\">8182</div></td></tr>\n",
       "<tr><td><div style=\"text-align:left; max-width:192px; max-height:64px; overflow:auto\">true</div></td><td><div style=\"text-align:left; max-width:192px; max-height:64px; overflow:auto\">4520</div></td></tr>\n",
       "<tr><td><div style=\"text-align:left; max-width:192px; max-height:64px; overflow:auto\">false</div></td><td><div style=\"text-align:left; max-width:192px; max-height:64px; overflow:auto\">774358</div></td></tr>\n",
       "</tbody>\n",
       "</table>\n",
       "<small>(Showing first 3 of 3 rows)</small>\n",
       "</div>"
      ],
      "text/plain": [
       "╭───────────────┬────────╮\n",
       "│ is_long_multi ┆ count  │\n",
       "│ ---           ┆ ---    │\n",
       "│ Boolean       ┆ UInt64 │\n",
       "╞═══════════════╪════════╡\n",
       "│ None          ┆ 8182   │\n",
       "├╌╌╌╌╌╌╌╌╌╌╌╌╌╌╌┼╌╌╌╌╌╌╌╌┤\n",
       "│ true          ┆ 4520   │\n",
       "├╌╌╌╌╌╌╌╌╌╌╌╌╌╌╌┼╌╌╌╌╌╌╌╌┤\n",
       "│ false         ┆ 774358 │\n",
       "╰───────────────┴────────╯\n",
       "\n",
       "(Showing first 3 of 3 rows)"
      ]
     },
     "execution_count": 4,
     "metadata": {},
     "output_type": "execute_result"
    }
   ],
   "source": [
    "# how many trips had a distance > 10 miles and > 1 passenger?\n",
    "df = df.with_column(\"is_long_multi\", \n",
    "                   (df[\"trip_distance\"] > 10) & (df[\"passenger_count\"] > 1))\n",
    "\n",
    "percent_count = (df.groupby(\"is_long_multi\")\n",
    "                 .agg(daft.col(\"VendorID\")\n",
    "                      .count()\n",
    "                      .alias(\"count\"))\n",
    "                      .collect())\n",
    "percent_count\n"
   ]
  },
  {
   "cell_type": "code",
   "execution_count": 10,
   "id": "3683a4a7",
   "metadata": {
    "slideshow": {
     "slide_type": "slide"
    }
   },
   "outputs": [
    {
     "data": {
      "text/html": [
       "<div>\n",
       "<table class=\"dataframe\">\n",
       "<thead><tr><th style=\"text-wrap: nowrap; max-width:192px; overflow:auto; text-align:left\">key<br />Utf8</th></tr></thead>\n",
       "<tbody>\n",
       "<tr><td><div style=\"text-align:left; max-width:192px; max-height:64px; overflow:auto\">my_key</div></td></tr>\n",
       "</tbody>\n",
       "</table>\n",
       "<small>(Showing first 1 of 1 rows)</small>\n",
       "</div>"
      ],
      "text/plain": [
       "╭────────╮\n",
       "│ key    │\n",
       "│ ---    │\n",
       "│ Utf8   │\n",
       "╞════════╡\n",
       "│ my_key │\n",
       "╰────────╯\n",
       "\n",
       "(Showing first 1 of 1 rows)"
      ]
     },
     "metadata": {},
     "output_type": "display_data"
    }
   ],
   "source": [
    "# how about nested object records?\n",
    "d = {\n",
    "    \"timestamp\": \"2025-01-02T02:03:04.000Z\",\n",
    "    \"id\": 123486993,\n",
    "    \"obj\": {\n",
    "        \"key\": \"my_key\",\n",
    "        \"value\": \"my_value\"\n",
    "    }\n",
    "}\n",
    "# works from_json() as well\n",
    "df = daft.from_pydict({\"log\": [d]}).collect()\n",
    "\n",
    "(df.filter(df[\"log\"][\"obj\"][\"value\"] == 'my_value')\n",
    " .select(df[\"log\"][\"obj\"][\"key\"])).show()"
   ]
  },
  {
   "cell_type": "code",
   "execution_count": 38,
   "id": "2166e18e",
   "metadata": {
    "slideshow": {
     "slide_type": "slide"
    }
   },
   "outputs": [],
   "source": [
    "# Example of lazy execution\n",
    "large_df = daft.read_csv(taxi_data)\n",
    "result = (\n",
    "    large_df.filter(large_df[\"total_amount\"] > 500.00)  # Filter first\n",
    "    .select(large_df[\"DOLocationID\"], large_df[\"total_amount\"])  # Then select only needed columns\n",
    "    .sort(\"total_amount\", desc=True)  # Order by amount\n",
    "    .limit(5)  # Finally take just 5 rows\n",
    ")"
   ]
  },
  {
   "cell_type": "code",
   "execution_count": 40,
   "id": "157caeeb",
   "metadata": {
    "slideshow": {
     "slide_type": "fragment"
    }
   },
   "outputs": [
    {
     "data": {
      "text/html": [
       "<div>\n",
       "<table class=\"dataframe\">\n",
       "<thead><tr><th style=\"text-wrap: nowrap; max-width:192px; overflow:auto; text-align:left\">DOLocationID<br />Int64</th><th style=\"text-wrap: nowrap; max-width:192px; overflow:auto; text-align:left\">total_amount<br />Float64</th></tr></thead>\n",
       "<tbody>\n",
       "<tr><td><div style=\"text-align:left; max-width:192px; max-height:64px; overflow:auto\">145</div></td><td><div style=\"text-align:left; max-width:192px; max-height:64px; overflow:auto\">4004.5</div></td></tr>\n",
       "<tr><td><div style=\"text-align:left; max-width:192px; max-height:64px; overflow:auto\">265</div></td><td><div style=\"text-align:left; max-width:192px; max-height:64px; overflow:auto\">3527.3</div></td></tr>\n",
       "<tr><td><div style=\"text-align:left; max-width:192px; max-height:64px; overflow:auto\">265</div></td><td><div style=\"text-align:left; max-width:192px; max-height:64px; overflow:auto\">1622.6</div></td></tr>\n",
       "<tr><td><div style=\"text-align:left; max-width:192px; max-height:64px; overflow:auto\">265</div></td><td><div style=\"text-align:left; max-width:192px; max-height:64px; overflow:auto\">1589.3</div></td></tr>\n",
       "<tr><td><div style=\"text-align:left; max-width:192px; max-height:64px; overflow:auto\">265</div></td><td><div style=\"text-align:left; max-width:192px; max-height:64px; overflow:auto\">1432.2</div></td></tr>\n",
       "</tbody>\n",
       "</table>\n",
       "<small>(Showing first 5 of 5 rows)</small>\n",
       "</div>"
      ],
      "text/plain": [
       "╭──────────────┬──────────────╮\n",
       "│ DOLocationID ┆ total_amount │\n",
       "│ ---          ┆ ---          │\n",
       "│ Int64        ┆ Float64      │\n",
       "╞══════════════╪══════════════╡\n",
       "│ 145          ┆ 4004.5       │\n",
       "├╌╌╌╌╌╌╌╌╌╌╌╌╌╌┼╌╌╌╌╌╌╌╌╌╌╌╌╌╌┤\n",
       "│ 265          ┆ 3527.3       │\n",
       "├╌╌╌╌╌╌╌╌╌╌╌╌╌╌┼╌╌╌╌╌╌╌╌╌╌╌╌╌╌┤\n",
       "│ 265          ┆ 1622.6       │\n",
       "├╌╌╌╌╌╌╌╌╌╌╌╌╌╌┼╌╌╌╌╌╌╌╌╌╌╌╌╌╌┤\n",
       "│ 265          ┆ 1589.3       │\n",
       "├╌╌╌╌╌╌╌╌╌╌╌╌╌╌┼╌╌╌╌╌╌╌╌╌╌╌╌╌╌┤\n",
       "│ 265          ┆ 1432.2       │\n",
       "╰──────────────┴──────────────╯\n",
       "\n",
       "(Showing first 5 of 5 rows)"
      ]
     },
     "metadata": {},
     "output_type": "display_data"
    }
   ],
   "source": [
    "# only now are results computed\n",
    "result.show(10)"
   ]
  },
  {
   "cell_type": "code",
   "execution_count": null,
   "id": "9d7c675f",
   "metadata": {},
   "outputs": [],
   "source": []
  }
 ],
 "metadata": {
  "celltoolbar": "Slideshow",
  "kernelspec": {
   "display_name": ".venv",
   "language": "python",
   "name": "python3"
  },
  "language_info": {
   "codemirror_mode": {
    "name": "ipython",
    "version": 3
   },
   "file_extension": ".py",
   "mimetype": "text/x-python",
   "name": "python",
   "nbconvert_exporter": "python",
   "pygments_lexer": "ipython3",
   "version": "3.12.10"
  },
  "rise": {
   "progress": true,
   "slideNumber": true,
   "theme": "night"
  }
 },
 "nbformat": 4,
 "nbformat_minor": 5
}
