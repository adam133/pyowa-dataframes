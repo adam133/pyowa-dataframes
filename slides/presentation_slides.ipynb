{
 "cells": [
  {
   "cell_type": "markdown",
   "id": "91753c26",
   "metadata": {
    "slideshow": {
     "slide_type": "slide"
    }
   },
   "source": [
    "# Framing DataFrames\n",
    "\n",
    "### Pyowa - 2025-05-27\n",
    "### Adam Best"
   ]
  },
  {
   "cell_type": "markdown",
   "id": "5dc522ac",
   "metadata": {
    "slideshow": {
     "slide_type": "slide"
    }
   },
   "source": [
    "# About Me\n",
    "\n",
    "- 6 years of experience as a data engineer - 10 years with data\n",
    "- John Deere Engine Works - quality engineering\n",
    "- General Dynamics IT - healthcare data warehouse\n",
    "- Dwolla - data platform/warehouse + AWS\n",
    "- John Deere Financial - Database Administration\n",
    "- Tractor Zoom - data platform"
   ]
  },
  {
   "cell_type": "markdown",
   "id": "c4f4b080",
   "metadata": {},
   "source": [
    "# Goals\n",
    "- Understanding of when and how to use a DataFrame\n",
    "- What options are out there, and what tools might be best for your use case\n",
    "\n",
    "### Will not cover\n",
    "- Exact syntax"
   ]
  },
  {
   "cell_type": "markdown",
   "id": "56eb6b2c",
   "metadata": {
    "slideshow": {
     "slide_type": "slide"
    }
   },
   "source": [
    "# What is a DataFrame?"
   ]
  },
  {
   "cell_type": "markdown",
   "id": "4c3d94bf",
   "metadata": {
    "slideshow": {
     "slide_type": "fragment"
    }
   },
   "source": [
    "### Programmable Excel\n",
    "- 2D table of data\n",
    "- Rows and columns\n",
    "- Cells contain data\n",
    "- Data is homogeneous\n",
    "- Data is aligned\n",
    "- Data is indexed\n",
    "- Data is mutable"
   ]
  },
  {
   "cell_type": "markdown",
   "id": "4daceb41",
   "metadata": {
    "slideshow": {
     "slide_type": "slide"
    }
   },
   "source": [
    "# Common data tasks\n",
    "\n",
    "- Selecting and filtering\n",
    "- Aggregations - sum, count\n",
    "- Joining or merging\n",
    "- Grouping"
   ]
  },
  {
   "cell_type": "code",
   "execution_count": 1,
   "id": "819b7b05",
   "metadata": {
    "slideshow": {
     "slide_type": "slide"
    }
   },
   "outputs": [
    {
     "data": {
      "text/html": [
       "<div>\n",
       "<style scoped>\n",
       "    .dataframe tbody tr th:only-of-type {\n",
       "        vertical-align: middle;\n",
       "    }\n",
       "\n",
       "    .dataframe tbody tr th {\n",
       "        vertical-align: top;\n",
       "    }\n",
       "\n",
       "    .dataframe thead th {\n",
       "        text-align: right;\n",
       "    }\n",
       "</style>\n",
       "<table border=\"1\" class=\"dataframe\">\n",
       "  <thead>\n",
       "    <tr style=\"text-align: right;\">\n",
       "      <th></th>\n",
       "      <th>name</th>\n",
       "      <th>age</th>\n",
       "      <th>city</th>\n",
       "    </tr>\n",
       "  </thead>\n",
       "  <tbody>\n",
       "    <tr>\n",
       "      <th>0</th>\n",
       "      <td>John</td>\n",
       "      <td>20</td>\n",
       "      <td>New York</td>\n",
       "    </tr>\n",
       "    <tr>\n",
       "      <th>1</th>\n",
       "      <td>Jane</td>\n",
       "      <td>21</td>\n",
       "      <td>Los Angeles</td>\n",
       "    </tr>\n",
       "    <tr>\n",
       "      <th>2</th>\n",
       "      <td>Jim</td>\n",
       "      <td>22</td>\n",
       "      <td>Chicago</td>\n",
       "    </tr>\n",
       "    <tr>\n",
       "      <th>3</th>\n",
       "      <td>Jill</td>\n",
       "      <td>23</td>\n",
       "      <td>Houston</td>\n",
       "    </tr>\n",
       "  </tbody>\n",
       "</table>\n",
       "</div>"
      ],
      "text/plain": [
       "   name  age         city\n",
       "0  John   20     New York\n",
       "1  Jane   21  Los Angeles\n",
       "2   Jim   22      Chicago\n",
       "3  Jill   23      Houston"
      ]
     },
     "execution_count": 1,
     "metadata": {},
     "output_type": "execute_result"
    }
   ],
   "source": [
    "# Example DataFrame\n",
    "from pandas import DataFrame\n",
    "\n",
    "df = DataFrame({\n",
    "    'name': ['John', 'Jane', 'Jim', 'Jill'],\n",
    "    'age': [20, 21, 22, 23],\n",
    "    'city': ['New York', 'Los Angeles', 'Chicago', 'Houston']\n",
    "})\n",
    "df.head()"
   ]
  },
  {
   "cell_type": "markdown",
   "id": "f0dbb214",
   "metadata": {
    "slideshow": {
     "slide_type": "slide"
    }
   },
   "source": [
    "# What isn't a DataFrame?"
   ]
  },
  {
   "cell_type": "code",
   "execution_count": null,
   "id": "3c0acc1f",
   "metadata": {
    "slideshow": {
     "slide_type": "fragment"
    }
   },
   "outputs": [],
   "source": [
    "# List of Dicts\n",
    "data = [{\"name\": \"Alice\", \"age\": 30}, {\"name\": \"Bob\", \"age\": 25}]\n",
    "# No indexing or vectorized operations on fields\n",
    "# e.g. fetch all records with age > 25"
   ]
  },
  {
   "cell_type": "code",
   "execution_count": null,
   "id": "229ba647",
   "metadata": {
    "slideshow": {
     "slide_type": "fragment"
    }
   },
   "outputs": [],
   "source": [
    "# Dict of List\n",
    "data = {\"name\": [\"Alice\", \"Bob\"], \"age\": [30, 25]}\n",
    "# Column based, but lacks type and shape enforcement"
   ]
  },
  {
   "cell_type": "code",
   "execution_count": null,
   "id": "65ecf592",
   "metadata": {
    "slideshow": {
     "slide_type": "fragment"
    }
   },
   "outputs": [],
   "source": [
    "# Named Tuple + Dataclasses (closer)\n",
    "from collections import namedtuple\n",
    "\n",
    "Person = namedtuple(\"Person\", [\"name\", \"age\"])\n",
    "people = [Person(\"Alice\", 30), Person(\"Bob\", 25)]\n",
    "# again, no vectorized operations or indexing"
   ]
  },
  {
   "cell_type": "markdown",
   "id": "9bb3f0fb",
   "metadata": {
    "slideshow": {
     "slide_type": "slide"
    }
   },
   "source": [
    "# SQL Tables\n",
    "```sql\n",
    "CREATE TABLE people\n",
    "(id int,\n",
    " name, varchar(30),\n",
    " age, int);\n",
    "\n",
    " SELECT COUNT(*) FROM people WHERE age > 30;\n",
    "```\n",
    "- Very similar functionality!"
   ]
  },
  {
   "cell_type": "markdown",
   "id": "e91b9ae6",
   "metadata": {
    "slideshow": {
     "slide_type": "slide"
    }
   },
   "source": [
    "# Summary\n",
    "Each of these represents structured or semi-structured data, but only DataFrames combine labeling, tabular structure, and vectorized operations in one unified tool."
   ]
  },
  {
   "cell_type": "markdown",
   "id": "cdc2ebb3",
   "metadata": {
    "slideshow": {
     "slide_type": "slide"
    }
   },
   "source": [
    "# So you want to use a DataFrame\n",
    "# 🤔"
   ]
  },
  {
   "cell_type": "markdown",
   "id": "39583341",
   "metadata": {
    "slideshow": {
     "slide_type": "subslide"
    }
   },
   "source": [
    "# The options (some of them)\n",
    "- Pandas\n",
    "- Polars\n",
    "- PySpark\n",
    "- Dask"
   ]
  },
  {
   "cell_type": "markdown",
   "id": "c788a207",
   "metadata": {
    "slideshow": {
     "slide_type": "slide"
    }
   },
   "source": [
    "# Pandas\n",
    "[Docs](https://pandas.pydata.org/docs/reference/index.html)\n",
    "- huge userbase\n",
    "- mature and flexible\n",
    "- single threaded, memory constrained"
   ]
  },
  {
   "cell_type": "code",
   "execution_count": 6,
   "id": "19bc0729",
   "metadata": {
    "slideshow": {
     "slide_type": "fragment"
    }
   },
   "outputs": [
    {
     "data": {
      "text/plain": [
       "city\n",
       "Chicago        22.0\n",
       "Houston        23.0\n",
       "Los Angeles    21.0\n",
       "New York       20.0\n",
       "Name: age, dtype: float64"
      ]
     },
     "execution_count": 6,
     "metadata": {},
     "output_type": "execute_result"
    }
   ],
   "source": [
    "import pandas as pd\n",
    "\n",
    "pandas_df = pd.DataFrame({\n",
    "    'name': ['John', 'Jane', 'Jim', 'Jill'],\n",
    "    'age': [20, 21, 22, 23],\n",
    "    'city': ['New York', 'Los Angeles', 'Chicago', 'Houston']\n",
    "})\n",
    "\n",
    "avg_age_by_city_pandas = pandas_df.groupby(\"city\")[\"age\"].mean()\n",
    "avg_age_by_city_pandas.head()"
   ]
  },
  {
   "cell_type": "markdown",
   "id": "bd716d5f",
   "metadata": {
    "slideshow": {
     "slide_type": "slide"
    }
   },
   "source": [
    "# Polars\n",
    "[Docs](https://docs.pola.rs/user-guide/getting-started/)\n",
    "- Fast - parallel and lazy evaluation\n",
    "- Less flexible for edge cases"
   ]
  },
  {
   "cell_type": "code",
   "execution_count": 7,
   "id": "ba887523",
   "metadata": {
    "slideshow": {
     "slide_type": "fragment"
    }
   },
   "outputs": [
    {
     "data": {
      "text/html": [
       "<div><style>\n",
       ".dataframe > thead > tr,\n",
       ".dataframe > tbody > tr {\n",
       "  text-align: right;\n",
       "  white-space: pre-wrap;\n",
       "}\n",
       "</style>\n",
       "<small>shape: (4, 2)</small><table border=\"1\" class=\"dataframe\"><thead><tr><th>city</th><th>age</th></tr><tr><td>str</td><td>f64</td></tr></thead><tbody><tr><td>&quot;Houston&quot;</td><td>23.0</td></tr><tr><td>&quot;Los Angeles&quot;</td><td>21.0</td></tr><tr><td>&quot;New York&quot;</td><td>20.0</td></tr><tr><td>&quot;Chicago&quot;</td><td>22.0</td></tr></tbody></table></div>"
      ],
      "text/plain": [
       "shape: (4, 2)\n",
       "┌─────────────┬──────┐\n",
       "│ city        ┆ age  │\n",
       "│ ---         ┆ ---  │\n",
       "│ str         ┆ f64  │\n",
       "╞═════════════╪══════╡\n",
       "│ Houston     ┆ 23.0 │\n",
       "│ Los Angeles ┆ 21.0 │\n",
       "│ New York    ┆ 20.0 │\n",
       "│ Chicago     ┆ 22.0 │\n",
       "└─────────────┴──────┘"
      ]
     },
     "execution_count": 7,
     "metadata": {},
     "output_type": "execute_result"
    }
   ],
   "source": [
    "import polars as pl\n",
    "\n",
    "polars_df = pl.DataFrame({\n",
    "    'name': ['John', 'Jane', 'Jim', 'Jill'],\n",
    "    'age': [20, 21, 22, 23],\n",
    "    'city': ['New York', 'Los Angeles', 'Chicago', 'Houston']\n",
    "})\n",
    "\n",
    "avg_age_by_city_polars = polars_df.group_by(\"city\").agg(pl.col(\"age\").mean())\n",
    "avg_age_by_city_polars.head()"
   ]
  },
  {
   "cell_type": "code",
   "execution_count": null,
   "id": "3d30b505",
   "metadata": {
    "slideshow": {
     "slide_type": "slide"
    }
   },
   "outputs": [],
   "source": [
    "# Side by side\n",
    "avg_age_by_city_pandas = pandas_df.groupby(\"city\")[\"age\"].mean()\n",
    "avg_age_by_city_polars = polars_df.group_by(\"city\").agg(pl.col(\"age\").mean())"
   ]
  },
  {
   "cell_type": "markdown",
   "id": "fe722f86",
   "metadata": {
    "slideshow": {
     "slide_type": "slide"
    }
   },
   "source": [
    "# (insert xkcd standards comic)\n"
   ]
  },
  {
   "cell_type": "markdown",
   "id": "3a134c0a",
   "metadata": {},
   "source": [
    "# PySpark\n",
    "- Year: \n",
    "- "
   ]
  }
 ],
 "metadata": {
  "celltoolbar": "Slideshow",
  "kernelspec": {
   "display_name": ".venv",
   "language": "python",
   "name": "python3"
  },
  "language_info": {
   "codemirror_mode": {
    "name": "ipython",
    "version": 3
   },
   "file_extension": ".py",
   "mimetype": "text/x-python",
   "name": "python",
   "nbconvert_exporter": "python",
   "pygments_lexer": "ipython3",
   "version": "3.12.10"
  },
  "rise": {
   "progress": true,
   "slideNumber": true,
   "theme": "night"
  }
 },
 "nbformat": 4,
 "nbformat_minor": 5
}
